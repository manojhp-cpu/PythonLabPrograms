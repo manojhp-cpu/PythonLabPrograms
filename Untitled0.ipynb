{
  "nbformat": 4,
  "nbformat_minor": 0,
  "metadata": {
    "colab": {
      "provenance": [],
      "authorship_tag": "ABX9TyOQ2Psgdh5nPntZkbINCf6r",
      "include_colab_link": true
    },
    "kernelspec": {
      "name": "python3",
      "display_name": "Python 3"
    },
    "language_info": {
      "name": "python"
    }
  },
  "cells": [
    {
      "cell_type": "markdown",
      "metadata": {
        "id": "view-in-github",
        "colab_type": "text"
      },
      "source": [
        "<a href=\"https://colab.research.google.com/github/manojhp-cpu/PythonLabPrograms/blob/main/Untitled0.ipynb\" target=\"_parent\"><img src=\"https://colab.research.google.com/assets/colab-badge.svg\" alt=\"Open In Colab\"/></a>"
      ]
    },
    {
      "cell_type": "code",
      "execution_count": 1,
      "metadata": {
        "colab": {
          "base_uri": "https://localhost:8080/",
          "height": 0
        },
        "id": "Gbi19y0vTxv3",
        "outputId": "fe9fc994-1de3-421e-9eb1-4c2b4fb62c29"
      },
      "outputs": [
        {
          "output_type": "stream",
          "name": "stdout",
          "text": [
            "Maximum Value:37\n",
            "Selected items:[3, 1, 0]\n"
          ]
        }
      ],
      "source": [
        "import numpy as np\n",
        "class kanpsack1:\n",
        "    def __init__(self,weights,values,capacity):\n",
        "        self.weights = weights\n",
        "        self.values = values\n",
        "        self.capacity = capacity\n",
        "        self.no_of_items = len(self.weights)\n",
        "\n",
        "    def dynamic_programming(self):\n",
        "        # Initialize a table to store the maximum value for each subproblem.\n",
        "        dp = np.zeros((self.no_of_items + 1,self.capacity + 1),dtype = int)\n",
        "         # Fill the table using dynamic programming.\n",
        "\n",
        "        for i in range(1,self.no_of_items + 1):\n",
        "            for w in range(1, self.capacity + 1):\n",
        "\n",
        "                # If the current item's weight is greater than the current capacity,\n",
        "                # we can't include it in the knapsack.\n",
        "                if self.weights[i - 1] > w:\n",
        "                    dp[i][w] = dp[i-1][w]\n",
        "\n",
        "                else:\n",
        "                    # Otherwise, we have two choices:\n",
        "                    # 1. Include the current item, which adds its value and reduces the capacity.\n",
        "                    # 2. Exclude the current item, which doesn't change the value.\n",
        "                    dp[i][w] = max(dp[i -1][w], dp[i -1][w - self.weights[i -1]] + self.values[i - 1])\n",
        "\n",
        "        max_value = dp[self.no_of_items][self.capacity]\n",
        "        print(f'Maximum Value:{max_value}')\n",
        "\n",
        "        selected_items1 = []\n",
        "\n",
        "        w, i = self.capacity,self.no_of_items\n",
        "        while i > 0 and w > 0:\n",
        "            if dp[i][w] != dp[i - 1][w]:\n",
        "                selected_items1.append(i - 1)\n",
        "                w -= self.weights[i - 1]\n",
        "            i -= 1\n",
        "        print(f'Selected items:{selected_items1}')\n",
        "\n",
        "\n",
        "\n",
        "\n",
        "if __name__ == '__main__':\n",
        "    w = np.array([2,1,3,2])\n",
        "    v = np.array([12,10,20,15])\n",
        "    cap = 5\n",
        "\n",
        "    ks = kanpsack1(w,v,cap)\n",
        "    ks.dynamic_programming()\n",
        "\n",
        ""
      ]
    }
  ]
}